{
 "cells": [
  {
   "cell_type": "code",
   "execution_count": 1,
   "metadata": {},
   "outputs": [],
   "source": [
    "import urllib\n",
    "\n",
    "import requests\n",
    "import tqdm"
   ]
  },
  {
   "cell_type": "code",
   "execution_count": 3,
   "metadata": {},
   "outputs": [],
   "source": [
    "chromosomes = [str(i) for i in range(1, 23)]\n",
    "\n",
    "for chromosome in tqdm.tqdm_notebook(chromosomes):\n",
    "    ftp_link = (\n",
    "        'ftp://ftp.1000genomes.ebi.ac.uk/vol1/ftp/release/20130502/'\n",
    "        f'ALL.chr{chromosome}.phase3_shapeit2_mvncall_integrated_v5a.20130502.genotypes.vcf.gz'\n",
    "    )\n",
    "    save_path = f'../data/1000_genomes/{chromosome}.vcf.gz'\n",
    "    \n",
    "    urllib.request.urlretrieve(ftp_link, save_path)\n",
    "    \n",
    "    with open('../data/1000_genomes_meta.tsv', 'a') as f:\n",
    "        row = '\\t'.join([chromosome, ftp_link, save_path])\n",
    "        f.write(row + '\\n')"
   ]
  },
  {
   "cell_type": "code",
   "execution_count": 3,
   "metadata": {},
   "outputs": [],
   "source": [
    "# 10.1371/journal.pone.0167994\n",
    "# http://www.columbia.edu/~to2232/tagSNP/\n",
    "\n",
    "tag_snps_url = 'http://www.columbia.edu/~to2232/tagSNP/1KGTSNP_20160513.zip'\n",
    "res = requests.get(tag_snps_url)\n",
    "with open('../data/tag_snps.zip', 'wb+') as f:\n",
    "    f.write(res.content)"
   ]
  },
  {
   "cell_type": "code",
   "execution_count": 5,
   "metadata": {},
   "outputs": [],
   "source": [
    "for chromosome in chromosomes:\n",
    "    ftp_link = ('ftp://ftp.ncbi.nlm.nih.gov/hapmap/phasing/2007-08_rel22/phased/'\n",
    "                f'genotypes_chr{chromosome}_CEU_r22_nr.b36_fwd_legend.txt.gz')\n",
    "    save_path = f'../data/hapmap_snps/{chromosome}.txt.gz'\n",
    "    \n",
    "    urllib.request.urlretrieve(ftp_link, save_path)\n",
    "    \n",
    "    with open('../data/hapmap_snps_meta.tsv', 'a') as f:\n",
    "        row = '\\t'.join([str(chromosome), ftp_link, save_path])\n",
    "        f.write(row + '\\n')"
   ]
  },
  {
   "cell_type": "code",
   "execution_count": null,
   "metadata": {},
   "outputs": [],
   "source": []
  }
 ],
 "metadata": {
  "kernelspec": {
   "display_name": "Python [conda env:epi-analysis] *",
   "language": "python",
   "name": "conda-env-epi-analysis-py"
  },
  "language_info": {
   "codemirror_mode": {
    "name": "ipython",
    "version": 3
   },
   "file_extension": ".py",
   "mimetype": "text/x-python",
   "name": "python",
   "nbconvert_exporter": "python",
   "pygments_lexer": "ipython3",
   "version": "3.7.3"
  }
 },
 "nbformat": 4,
 "nbformat_minor": 2
}
